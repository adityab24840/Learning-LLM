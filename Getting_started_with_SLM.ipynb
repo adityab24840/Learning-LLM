{
  "nbformat": 4,
  "nbformat_minor": 0,
  "metadata": {
    "colab": {
      "provenance": [],
      "authorship_tag": "ABX9TyP0b9AqTHHmhPT/BhIWZQcU",
      "include_colab_link": true
    },
    "kernelspec": {
      "name": "python3",
      "display_name": "Python 3"
    },
    "language_info": {
      "name": "python"
    }
  },
  "cells": [
    {
      "cell_type": "markdown",
      "metadata": {
        "id": "view-in-github",
        "colab_type": "text"
      },
      "source": [
        "<a href=\"https://colab.research.google.com/github/adityab24840/Learning-LLM/blob/main/Getting_started_with_SLM.ipynb\" target=\"_parent\"><img src=\"https://colab.research.google.com/assets/colab-badge.svg\" alt=\"Open In Colab\"/></a>"
      ]
    },
    {
      "cell_type": "code",
      "execution_count": 38,
      "metadata": {
        "id": "WthMKcJc_x8U"
      },
      "outputs": [],
      "source": [
        "# pip install transformers"
      ]
    },
    {
      "cell_type": "code",
      "source": [
        "# pip install sentence-transformers"
      ],
      "metadata": {
        "id": "yP6n3Ulv_1Sc"
      },
      "execution_count": 39,
      "outputs": []
    },
    {
      "cell_type": "code",
      "source": [
        "from sentence_transformers import SentenceTransformer"
      ],
      "metadata": {
        "id": "8prA9PLw_3RW"
      },
      "execution_count": 40,
      "outputs": []
    },
    {
      "cell_type": "code",
      "source": [
        "# Load the model\n",
        "model_name = \"sentence-transformers/all-MiniLM-L6-v2\"\n",
        "model = SentenceTransformer(model_name)"
      ],
      "metadata": {
        "id": "CldsQaVqACNI"
      },
      "execution_count": 41,
      "outputs": []
    },
    {
      "cell_type": "code",
      "source": [
        "import numpy as np\n",
        "def generate_embedding(text, normalize=False, batch=False):\n",
        "    # Generate the embedding\n",
        "    embedding = model.encode(text)\n",
        "    return embedding\n"
      ],
      "metadata": {
        "id": "5VOiXIDPAPgI"
      },
      "execution_count": 42,
      "outputs": []
    },
    {
      "cell_type": "code",
      "source": [
        "text = \"This\"\n",
        "embedding = generate_embedding(text)\n",
        "print(embedding)\n"
      ],
      "metadata": {
        "colab": {
          "base_uri": "https://localhost:8080/"
        },
        "id": "Ff3EYD__ARbJ",
        "outputId": "a1c722e5-a90a-4be3-f81e-0a3539c5f9b5"
      },
      "execution_count": 43,
      "outputs": [
        {
          "output_type": "stream",
          "name": "stdout",
          "text": [
            "[-6.77422881e-02  4.62602079e-02 -4.40196991e-02 -1.77944209e-02\n",
            "  7.40244985e-03 -3.85435075e-02  8.51258263e-02  2.75502615e-02\n",
            "  1.17351599e-02  3.07532754e-02 -7.64141977e-03  8.19422211e-03\n",
            " -8.65644123e-03  5.55650592e-02 -3.92512940e-02  2.80214101e-02\n",
            " -4.08548489e-02  8.24944228e-02 -8.35365802e-02 -4.54011634e-02\n",
            "  5.42403152e-03  7.77565641e-03 -1.13182347e-02  3.40523645e-02\n",
            " -4.23011370e-02  4.17779572e-02 -1.25682983e-03  3.71140912e-02\n",
            "  1.36337746e-02 -9.20760557e-02 -5.76593392e-02  4.50376868e-02\n",
            "  4.40912694e-02  7.35326577e-03 -3.36629264e-02 -2.51802504e-02\n",
            " -7.62355998e-02  3.99236344e-02 -2.29819864e-02  8.34374782e-03\n",
            "  2.97792628e-02 -6.05573691e-02 -3.04280650e-02  1.28755085e-02\n",
            "  7.25993067e-02 -2.55393684e-02 -6.80690119e-03 -2.93173231e-02\n",
            "  5.56586571e-02 -2.14933811e-04  3.03228735e-03 -8.32649507e-03\n",
            " -3.20251659e-02 -8.37644488e-02 -1.12328520e-02 -1.24163525e-02\n",
            " -5.40610477e-02 -7.91733433e-03  5.35053723e-02 -3.69021147e-02\n",
            "  1.11856423e-02  8.46640952e-03 -9.39699411e-02  8.40947777e-03\n",
            "  6.17882684e-02  5.30687459e-02  4.05514333e-03  1.64848845e-02\n",
            " -4.31870185e-02 -2.27111075e-02  8.51979665e-03  1.71243753e-02\n",
            " -4.99525443e-02 -4.87016439e-02  2.52984613e-02  5.30437641e-02\n",
            "  6.00180589e-02 -9.87754241e-02  2.38015614e-02 -1.79600976e-02\n",
            " -4.69776355e-02  4.17262204e-02 -8.94175023e-02 -6.48546293e-02\n",
            "  2.25790031e-02 -3.32419835e-02  4.65716943e-02 -1.17706768e-02\n",
            "  1.27488328e-02  5.25565147e-02 -8.05929601e-02 -1.27358481e-01\n",
            "  7.08763152e-02  6.86378106e-02 -4.95025814e-02  4.04707082e-02\n",
            " -1.73641704e-02 -4.94297296e-02 -6.69934675e-02  3.16518873e-01\n",
            "  2.28977986e-02 -2.57692412e-02  3.28872725e-03  2.39822231e-02\n",
            "  2.06500348e-02 -1.10984087e-01 -5.66997416e-02 -8.43037665e-03\n",
            " -1.16790598e-02 -2.18467731e-02 -7.11665899e-02 -5.94871454e-02\n",
            " -7.22280471e-03  3.42457518e-02 -1.15391389e-02  9.22065601e-02\n",
            " -1.40044177e-02 -9.45930090e-03 -3.44603918e-02  3.76691036e-02\n",
            "  1.17285429e-02  7.34577999e-02 -5.50377630e-02 -5.92746306e-03\n",
            "  4.52422313e-02 -8.77373442e-02 -2.68645566e-02 -5.53382976e-34\n",
            "  6.58709258e-02  2.03514881e-02 -1.57252848e-02  5.77634387e-02\n",
            "  1.19275331e-01  6.19692802e-02 -6.09074198e-02 -2.21489575e-02\n",
            " -8.11666832e-04 -2.21250206e-02  6.66634068e-02 -5.99906594e-02\n",
            "  1.40754934e-02 -3.22503038e-02  9.99505967e-02  3.84788513e-02\n",
            "  1.61207411e-02  1.06486499e-01 -2.24069431e-02  1.96358096e-02\n",
            "  3.81076895e-02  5.06513007e-03  1.69892013e-02  1.17706455e-04\n",
            " -2.12284271e-02 -7.50541827e-03 -1.13169746e-02 -3.87927890e-02\n",
            " -8.16830546e-02  3.52072082e-02  1.17474804e-02  1.01456102e-02\n",
            " -1.51608633e-02 -3.00655086e-02 -2.73346938e-02  2.88075171e-02\n",
            " -7.99788255e-03 -6.86437339e-02  3.89073491e-02 -1.54808452e-02\n",
            "  1.97802149e-02 -9.44430195e-03 -5.93457371e-02  1.87902246e-02\n",
            " -2.60615088e-02  6.75753877e-02  6.81205541e-02 -6.08474389e-03\n",
            "  2.53474899e-02  4.64051329e-02 -5.70508540e-02  4.26839478e-02\n",
            " -8.57965052e-02  4.45507914e-02 -1.12787217e-01 -2.03475822e-02\n",
            "  2.15657894e-02 -3.59119773e-02 -3.21105449e-03 -3.89823876e-02\n",
            "  6.78301230e-02 -2.30555469e-03 -2.88347024e-02 -4.81446125e-02\n",
            " -1.88931189e-02 -4.63423207e-02 -8.67783185e-03 -6.27082437e-02\n",
            "  5.66789554e-03 -2.41790637e-02 -5.56003638e-02  4.98894416e-02\n",
            "  3.20837125e-02  2.10984256e-02  2.94931047e-03 -4.23343591e-02\n",
            " -4.85597625e-02  4.39782888e-02  9.60222678e-04 -7.66279101e-02\n",
            " -1.06902979e-02 -8.96893516e-02 -4.64460580e-03  6.86256662e-02\n",
            " -1.44266422e-04 -3.14921178e-02  2.99232677e-02 -1.13470461e-02\n",
            " -3.25179026e-02  6.02721348e-02 -1.10293441e-01  9.12119299e-02\n",
            "  6.38156338e-03  6.61836565e-02  1.87866818e-02 -9.29093011e-34\n",
            "  2.26267222e-02  3.08850668e-02  1.29812513e-03  8.23721737e-02\n",
            "  5.55926189e-02  2.68405452e-02  4.59813736e-02  4.15075421e-02\n",
            "  7.51547795e-03  6.61726296e-02  3.16869207e-02  2.06283722e-02\n",
            " -1.48077868e-02 -3.00432164e-02  2.54726540e-02  9.14860964e-02\n",
            "  1.13140561e-01 -7.44800270e-02  3.20372405e-03  5.77490516e-02\n",
            " -4.30005640e-02 -1.79486666e-02  5.24173714e-02  4.56615575e-02\n",
            " -8.61841068e-03  4.73904163e-02  1.62617415e-02  2.05506030e-02\n",
            " -4.46977839e-03  4.68069641e-03  3.13895755e-02 -4.35708351e-02\n",
            " -3.49679515e-02 -3.96967791e-02 -2.68039573e-02  1.10643648e-01\n",
            "  6.79649506e-03  6.11573160e-02  2.77735628e-02  1.58706505e-03\n",
            "  2.62130573e-02  5.15405927e-03 -3.82290483e-02  2.28552725e-02\n",
            " -9.63457674e-03 -8.64493623e-02 -2.36814134e-02  2.88388990e-02\n",
            " -1.96885709e-02  9.33600292e-02 -6.69486895e-02 -4.28363495e-02\n",
            " -5.40921986e-02  4.54886183e-02 -1.05961896e-01  1.05183586e-01\n",
            " -3.06428783e-02 -2.93725431e-02  3.56229320e-02  7.61419237e-02\n",
            " -6.59025274e-03 -9.38188098e-03 -3.06233708e-02  8.09025168e-02\n",
            " -2.98645049e-02 -1.70117933e-02  4.43896744e-03  1.74179338e-02\n",
            "  2.88684503e-03  4.22313549e-02  8.07413310e-02 -1.58583485e-02\n",
            " -1.22062571e-01 -9.64494422e-03 -2.68947892e-02 -1.62501372e-02\n",
            " -6.71980903e-02 -4.45278659e-02 -2.52921991e-02  3.49096302e-03\n",
            "  2.77172904e-02 -1.96749549e-02  1.73272789e-02 -1.50004700e-02\n",
            "  1.75678991e-02  1.61771607e-02 -3.33078280e-02 -1.38945598e-02\n",
            " -6.87239468e-02 -4.67242971e-02 -3.95176262e-02  3.99529487e-02\n",
            "  1.84783805e-02 -1.36836283e-02 -5.31780012e-02 -1.79131749e-08\n",
            " -5.75103052e-02 -3.65224890e-02 -9.98733491e-02  3.05302944e-02\n",
            "  8.44543651e-02  1.37053967e-01 -4.12509851e-02  6.96429797e-03\n",
            "  3.46930251e-02  4.18937616e-02  1.04865715e-01  4.24539037e-02\n",
            "  6.83580935e-02  6.28236234e-02  7.30026513e-02  7.23356903e-02\n",
            "  1.48534290e-02 -3.67948934e-02 -3.52142123e-03 -2.93685589e-02\n",
            " -6.22410402e-02 -3.74906398e-02  1.34041384e-01 -5.28301559e-02\n",
            "  3.87174115e-02  1.29447728e-02 -1.35608381e-02  1.68899633e-02\n",
            "  3.89687344e-02  4.20075692e-02 -2.17521861e-02  8.04469064e-02\n",
            " -2.11354122e-02 -4.10909057e-02 -6.56358665e-03 -1.95470843e-02\n",
            " -8.78462866e-02 -3.82781252e-02  4.78944406e-02  1.62349381e-02\n",
            " -8.85623097e-02 -2.51692552e-02  5.23284040e-02  1.21796262e-02\n",
            " -5.71897812e-02  4.20673154e-02 -6.18976541e-02 -6.19393066e-02\n",
            " -8.06458294e-02 -3.04939672e-02  2.97751222e-02  3.24499095e-04\n",
            " -3.94016616e-02  1.02406263e-01  8.75860825e-02 -1.41967554e-02\n",
            " -1.17415357e-02  1.87624041e-02 -1.22900698e-02  4.09202911e-02\n",
            "  1.07192136e-01  1.37597919e-02  3.34408670e-03  8.41325521e-02]\n"
          ]
        }
      ]
    },
    {
      "cell_type": "code",
      "source": [
        "### Text Similarity Search\n",
        "\n",
        "# Generate embeddings for a set of sentences or documents.\n",
        "# Use cosine similarity to measure the similarity between embeddings.\n",
        "# Find the closest match or rank all sentences/documents by similarity"
      ],
      "metadata": {
        "id": "TRNeaARJAW2Q"
      },
      "execution_count": 44,
      "outputs": []
    },
    {
      "cell_type": "code",
      "source": [
        "from sklearn.metrics.pairwise import cosine_similarity\n",
        "import numpy as np"
      ],
      "metadata": {
        "id": "7ESJNH_MAY8L"
      },
      "execution_count": 45,
      "outputs": []
    },
    {
      "cell_type": "code",
      "source": [
        "def find_most_similar(sentences, query):\n",
        "    # Generate embeddings for the sentences and the query\n",
        "    sentence_embeddings = generate_embedding(sentences)\n",
        "    query_embedding = generate_embedding([query])\n",
        "\n",
        "    # Calculate cosine similarities\n",
        "    similarities = cosine_similarity(query_embedding, sentence_embeddings)\n",
        "    most_similar_index = np.argmax(similarities)\n",
        "\n",
        "    return sentences[most_similar_index], similarities[0][most_similar_index]"
      ],
      "metadata": {
        "id": "Z0lkXb18Acoe"
      },
      "execution_count": 46,
      "outputs": []
    },
    {
      "cell_type": "code",
      "source": [
        "sentences = [\"I love machine learning.\", \"AI is the future.\", \"Data science is interesting.\"]\n",
        "query = \"I enjoy working with AI.\""
      ],
      "metadata": {
        "id": "63eacVrrAg_f"
      },
      "execution_count": 47,
      "outputs": []
    },
    {
      "cell_type": "code",
      "source": [
        "most_similar_sentence, similarity_score = find_most_similar(sentences, query)"
      ],
      "metadata": {
        "id": "xUW9OyPOAibI"
      },
      "execution_count": 48,
      "outputs": []
    },
    {
      "cell_type": "code",
      "source": [
        "print(f\"Most similar sentence: {most_similar_sentence} (Score: {similarity_score})\")"
      ],
      "metadata": {
        "colab": {
          "base_uri": "https://localhost:8080/"
        },
        "id": "8rRLmWmnAjet",
        "outputId": "9c1d0cd8-1c07-4fc4-9d28-438afd5e799c"
      },
      "execution_count": 49,
      "outputs": [
        {
          "output_type": "stream",
          "name": "stdout",
          "text": [
            "Most similar sentence: AI is the future. (Score: 0.6252813339233398)\n"
          ]
        }
      ]
    },
    {
      "cell_type": "code",
      "source": [
        "# Clustering Text Data\n",
        "\n",
        "from sklearn.cluster import KMeans\n",
        "import matplotlib.pyplot as plt\n",
        "from sklearn.decomposition import PCA\n"
      ],
      "metadata": {
        "id": "_OHtFpaVC0q6"
      },
      "execution_count": 50,
      "outputs": []
    },
    {
      "cell_type": "code",
      "source": [
        "def cluster_texts(sentences, num_clusters=3):\n",
        "    # Generate embeddings\n",
        "    embeddings = generate_embedding(sentences)\n",
        "\n",
        "    # Cluster the embeddings\n",
        "    kmeans = KMeans(n_clusters=num_clusters)\n",
        "    kmeans.fit(embeddings)\n",
        "    labels = kmeans.labels_\n",
        "\n",
        "    # Visualize the clusters\n",
        "    pca = PCA(n_components=2)\n",
        "    reduced_embeddings = pca.fit_transform(embeddings)\n",
        "    plt.scatter(reduced_embeddings[:, 0], reduced_embeddings[:, 1], c=labels, cmap='viridis')\n",
        "    plt.show()\n",
        "\n",
        "    return labels"
      ],
      "metadata": {
        "id": "KrQ0dRnDC4Hx"
      },
      "execution_count": 51,
      "outputs": []
    },
    {
      "cell_type": "code",
      "source": [
        "sentences = [\"I love machine learning.\", \"AI is the future.\", \"Data science is interesting.\", \"I enjoy working with AI.\"]\n",
        "labels = cluster_texts(sentences)\n",
        "print(f\"Cluster labels: {labels}\")"
      ],
      "metadata": {
        "colab": {
          "base_uri": "https://localhost:8080/",
          "height": 502
        },
        "id": "TkG05h0gDAg5",
        "outputId": "9c5aade0-5dee-46ff-fa8d-36f0d96397de"
      },
      "execution_count": 52,
      "outputs": [
        {
          "output_type": "stream",
          "name": "stderr",
          "text": [
            "/usr/local/lib/python3.10/dist-packages/sklearn/cluster/_kmeans.py:1416: FutureWarning: The default value of `n_init` will change from 10 to 'auto' in 1.4. Set the value of `n_init` explicitly to suppress the warning\n",
            "  super()._check_params_vs_input(X, default_n_init=10)\n"
          ]
        },
        {
          "output_type": "display_data",
          "data": {
            "text/plain": [
              "<Figure size 640x480 with 1 Axes>"
            ],
            "image/png": "[encoded data removed]"
          },
          "metadata": {}
        },
        {
          "output_type": "stream",
          "name": "stdout",
          "text": [
            "Cluster labels: [2 0 1 0]\n"
          ]
        }
      ]
    },
    {
      "cell_type": "code",
      "source": [
        "# Text Classification\n",
        "\n",
        "from sklearn.model_selection import train_test_split\n",
        "from sklearn.linear_model import LogisticRegression\n",
        "from sklearn.metrics import accuracy_score"
      ],
      "metadata": {
        "id": "4OTWYyrxE7K0"
      },
      "execution_count": 53,
      "outputs": []
    },
    {
      "cell_type": "code",
      "source": [
        "def classify_texts(sentences, labels):\n",
        "    # Generate embeddings\n",
        "    embeddings = model.encode(sentences)\n",
        "\n",
        "    # Split data into training and test sets\n",
        "    X_train, X_test, y_train, y_test = train_test_split(embeddings, labels, test_size=0.2, random_state=42)\n",
        "\n",
        "    # Train a classifier\n",
        "    clf = LogisticRegression()\n",
        "    clf.fit(X_train, y_train)\n",
        "\n",
        "    # Evaluate the model\n",
        "    y_pred = clf.predict(X_test)\n",
        "    accuracy = accuracy_score(y_test, y_pred)\n",
        "    return accuracy"
      ],
      "metadata": {
        "id": "p1jrC9bHE9qb"
      },
      "execution_count": 55,
      "outputs": []
    },
    {
      "cell_type": "code",
      "source": [
        "sentences = [\"I love machine learning.\", \"AI is the future.\", \"Data science is interesting.\", \"I enjoy working with AI.\"]\n",
        "labels = [1, 1, 0, 1]  # 1 for AI-related, 0 for non-AI-related\n"
      ],
      "metadata": {
        "id": "b_qjE87NE_od"
      },
      "execution_count": 60,
      "outputs": []
    },
    {
      "cell_type": "code",
      "source": [
        "accuracy = classify_texts(sentences, labels)\n"
      ],
      "metadata": {
        "id": "OeG0vatkFFjW"
      },
      "execution_count": 57,
      "outputs": []
    },
    {
      "cell_type": "code",
      "source": [
        "print(f\"Classification accuracy: {accuracy}\")"
      ],
      "metadata": {
        "colab": {
          "base_uri": "https://localhost:8080/"
        },
        "id": "DLMkEBk0FGZs",
        "outputId": "c20d8f3f-813d-4db6-e48d-ecf6bbf54e7b"
      },
      "execution_count": 58,
      "outputs": [
        {
          "output_type": "stream",
          "name": "stdout",
          "text": [
            "Classification accuracy: 1.0\n"
          ]
        }
      ]
    }
  ]
}